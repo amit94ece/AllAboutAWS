{
  "nbformat": 4,
  "nbformat_minor": 0,
  "metadata": {
    "colab": {
      "provenance": [],
      "gpuType": "T4",
      "authorship_tag": "ABX9TyMzuTZ4mkYrjc52keRmsaNW",
      "include_colab_link": true
    },
    "kernelspec": {
      "name": "python3",
      "display_name": "Python 3"
    },
    "language_info": {
      "name": "python"
    },
    "accelerator": "GPU"
  },
  "cells": [
    {
      "cell_type": "markdown",
      "metadata": {
        "id": "view-in-github",
        "colab_type": "text"
      },
      "source": [
        "<a href=\"https://colab.research.google.com/github/amit94ece/AllAboutAWS/blob/main/Homework3.ipynb\" target=\"_parent\"><img src=\"https://colab.research.google.com/assets/colab-badge.svg\" alt=\"Open In Colab\"/></a>"
      ]
    },
    {
      "cell_type": "code",
      "execution_count": 1,
      "metadata": {
        "colab": {
          "base_uri": "https://localhost:8080/"
        },
        "id": "eLOniPKchxVx",
        "outputId": "2ec7322e-0195-439f-8e5e-0a3e4a2bce1f"
      },
      "outputs": [
        {
          "output_type": "stream",
          "name": "stdout",
          "text": [
            "  % Total    % Received % Xferd  Average Speed   Time    Time     Time  Current\n",
            "                                 Dload  Upload   Total   Spent    Left  Speed\n",
            "100 24239  100 24239    0     0  13607      0  0:00:01  0:00:01 --:--:-- 13602\n",
            "Archive:  homework3.zip\n",
            "  inflating: README.md               \n",
            "  inflating: requirements.txt        \n",
            "  inflating: bundle.py               \n",
            "  inflating: homework/__init__.py    \n",
            "  inflating: grader/__main__.py      \n",
            "  inflating: grader/grader.py        \n",
            "  inflating: grader/metrics.py       \n",
            "  inflating: grader/tests.py         \n",
            "  inflating: grader/datasets/classification_dataset.py  \n",
            "  inflating: grader/datasets/road_dataset.py  \n",
            "  inflating: grader/datasets/road_transforms.py  \n",
            "  inflating: grader/datasets/road_utils.py  \n",
            "  inflating: homework/metrics.py     \n",
            "  inflating: homework/models.py      \n",
            "  inflating: homework/datasets/classification_dataset.py  \n",
            "  inflating: homework/datasets/road_dataset.py  \n",
            "  inflating: homework/datasets/road_transforms.py  \n",
            "  inflating: homework/datasets/road_utils.py  \n",
            "  % Total    % Received % Xferd  Average Speed   Time    Time     Time  Current\n",
            "                                 Dload  Upload   Total   Spent    Left  Speed\n",
            "100 46.7M  100 46.7M    0     0  20.4M      0  0:00:02  0:00:02 --:--:-- 20.4M\n",
            "  % Total    % Received % Xferd  Average Speed   Time    Time     Time  Current\n",
            "                                 Dload  Upload   Total   Spent    Left  Speed\n",
            "100 61.9M  100 61.9M    0     0  30.6M      0  0:00:02  0:00:02 --:--:-- 30.6M\n"
          ]
        }
      ],
      "source": [
        "!curl -O https://www.cs.utexas.edu/~bzhou/dl_class/homework3.zip\n",
        "!unzip -o homework3.zip\n",
        "!rm homework3.zip\n",
        "\n",
        "!curl -O https://www.cs.utexas.edu/~bzhou/dl_class/classification_data.zip\n",
        "!unzip -o classification_data.zip > /dev/null\n",
        "!rm classification_data.zip\n",
        "\n",
        "!curl -O https://www.cs.utexas.edu/~bzhou/dl_class/road_data.zip\n",
        "!unzip -o road_data.zip > /dev/null\n",
        "!rm road_data.zip\n",
        "\n",
        "# refreshes python imports automatically when you edit the source file\n",
        "%load_ext autoreload\n",
        "%autoreload 2"
      ]
    },
    {
      "cell_type": "code",
      "source": [
        "# Make sure you see all the content and notebooks by running the below\n",
        "\n",
        "!ls /content/"
      ],
      "metadata": {
        "colab": {
          "base_uri": "https://localhost:8080/"
        },
        "id": "HQ_X1VmRiFsJ",
        "outputId": "82e7fb67-3399-487f-9bf3-116f70d41609"
      },
      "execution_count": 2,
      "outputs": [
        {
          "output_type": "stream",
          "name": "stdout",
          "text": [
            "bundle.py\t     grader    README.md\t road_data\n",
            "classification_data  homework  requirements.txt  sample_data\n"
          ]
        }
      ]
    },
    {
      "cell_type": "code",
      "source": [
        "from homework.train_classification import train_classification\n",
        "from homework.config import TrainingConfig\n",
        "\n",
        "config = TrainingConfig(\n",
        "    train_path='/content/classification_data/train',\n",
        "    val_path='/content/classification_data/val',\n",
        "    num_epochs=10,\n",
        "    batch_size=32,\n",
        "    learning_rate=0.001,\n",
        "    num_classes=6,\n",
        "    in_channels=3\n",
        ")\n",
        "\n",
        "train_classification(config)"
      ],
      "metadata": {
        "colab": {
          "base_uri": "https://localhost:8080/"
        },
        "id": "ICdfRz60oI-p",
        "outputId": "59da3f8c-7f02-4edc-fa5e-178cf681657c"
      },
      "execution_count": 13,
      "outputs": [
        {
          "output_type": "stream",
          "name": "stdout",
          "text": [
            "Using device: cuda\n",
            "Epoch [1/10], Loss: 0.5427, Train Accuracy: 0.8345\n",
            "Epoch [2/10], Loss: 0.2835, Train Accuracy: 0.9147\n",
            "Epoch [3/10], Loss: 0.2171, Train Accuracy: 0.9345\n",
            "Epoch [4/10], Loss: 0.1856, Train Accuracy: 0.9461\n",
            "Epoch [5/10], Loss: 0.1643, Train Accuracy: 0.9525\n",
            "Epoch [6/10], Loss: 0.1467, Train Accuracy: 0.9579\n",
            "Epoch [7/10], Loss: 0.1342, Train Accuracy: 0.9611\n",
            "Epoch [8/10], Loss: 0.1171, Train Accuracy: 0.9673\n",
            "Epoch [9/10], Loss: 0.1104, Train Accuracy: 0.9677\n",
            "Epoch [10/10], Loss: 0.0968, Train Accuracy: 0.9723\n",
            "Final Validation Accuracy: 0.9157\n",
            "Model saved to /content/homework/classifier.th\n"
          ]
        }
      ]
    },
    {
      "cell_type": "code",
      "source": [
        "!python3 -m grader homework -vv --disable_color"
      ],
      "metadata": {
        "colab": {
          "base_uri": "https://localhost:8080/"
        },
        "id": "8LpXGOXstFTB",
        "outputId": "486b74de-401e-4133-cfe2-8ddb0f39a463"
      },
      "execution_count": 14,
      "outputs": [
        {
          "output_type": "stream",
          "name": "stdout",
          "text": [
            "Public grader loaded.\n",
            "[DEBUG    00:00:000] Loading assignment\n",
            "[DEBUG    00:00:000] Loading grader\n",
            "[INFO     00:00:001] Classifier\n",
            "[INFO     00:00:542]   - Predict                                            [ 10 / 10 ]\n",
            "/content/./homework/models.py:179: FutureWarning: You are using `torch.load` with `weights_only=False` (the current default value), which uses the default pickle module implicitly. It is possible to construct malicious pickle data which will execute arbitrary code during unpickling (See https://github.com/pytorch/pytorch/blob/main/SECURITY.md#untrusted-models for more details). In a future release, the default value for `weights_only` will be flipped to `True`. This limits the functions that could be executed during unpickling. Arbitrary objects will no longer be allowed to be loaded via this mode unless they are explicitly allowlisted by the user via `torch.serialization.add_safe_globals`. We recommend you start setting `weights_only=True` for any use case where you don't have full control of the loaded file. Please open an issue on GitHub for any issues related to this experimental feature.\n",
            "  m.load_state_dict(torch.load(model_path, map_location=\"cpu\"))\n",
            "[INFO     00:05:112]   - Accuracy                                           [ 25 / 25 ]\n",
            "[WARNING  00:05:112] accuracy: 0.916\n",
            "[INFO     00:05:112]   - Accuracy: Extra Credit                             [ 2 / 2 ]\n",
            "[INFO     00:05:118]  --------------------------------------------------    [  37 /  35 ]\n",
            "[INFO     00:05:122] Detector\n",
            "[INFO     00:05:350]   - Predict                                            [ 10 / 10 ]\n",
            "[WARNING  00:05:350]   - Segmentation Accuracy                              [ 0 / 10 ]\n",
            "[WARNING  00:05:350] detector.th not found\n",
            "[WARNING  00:05:351]   - Segmentation IoU                                   [ 0 / 25 ]\n",
            "[WARNING  00:05:351] detector.th not found\n",
            "[WARNING  00:05:351]   - Segmentation IoU: Extra Credit                     [ 0 / 2 ]\n",
            "[WARNING  00:05:351] detector.th not found\n",
            "[WARNING  00:05:351]   - Depth Error                                        [ 0 / 10 ]\n",
            "[WARNING  00:05:351] detector.th not found\n",
            "[WARNING  00:05:351]   - Depth Error: Extra Credit                          [ 0 / 2 ]\n",
            "[WARNING  00:05:352] detector.th not found\n",
            "[WARNING  00:05:352]   - True Positives Depth Error                         [ 0 / 10 ]\n",
            "[WARNING  00:05:352] detector.th not found\n",
            "[INFO     00:05:352]  --------------------------------------------------    [  10 /  65 ]\n",
            "[INFO     00:05:352] Total                                                     47 / 100\n"
          ]
        }
      ]
    }
  ]
}